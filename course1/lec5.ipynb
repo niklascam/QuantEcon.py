{
 "cells": [
  {
   "cell_type": "markdown",
   "metadata": {},
   "source": [
    "Lecture 5 - Data types\n",
    "\n",
    "Primite data types:\n",
    "-Boolean\n",
    "-integer\n",
    "-floating point number\n",
    "-complex numbers\n",
    "\n",
    "containers:\n",
    "-list (mutable)\n",
    "-tuple (immutable list)\n",
    "-dictionary (like a list but with named instead of numbered entries)\n",
    "-set"
   ]
  },
  {
   "cell_type": "code",
   "execution_count": 8,
   "metadata": {},
   "outputs": [
    {
     "data": {
      "text/plain": [
       "12"
      ]
     },
     "execution_count": 8,
     "metadata": {},
     "output_type": "execute_result"
    }
   ],
   "source": [
    "#Exercise 5.1\n",
    "\n",
    "#part one\n",
    "x_vals = [1,3,4]\n",
    "y_vals = [2,2,1]\n",
    "\n",
    "mysum = 0\n",
    "for x,y in zip(x_vals,y_vals):\n",
    "    mysum = mysum + x * y\n",
    "\n",
    "mysum\n",
    "\n",
    "\n",
    "#part two\n",
    "sum(X%2 == 0 for x in range(100))\n",
    "\n",
    "\n",
    "#part three\n",
    "pairs = ((2, 5), (4, 2), (9, 8), (12, 10))\n",
    "pairs[0]"
   ]
  },
  {
   "cell_type": "code",
   "execution_count": 17,
   "metadata": {},
   "outputs": [
    {
     "data": {
      "text/plain": [
       "2"
      ]
     },
     "execution_count": 17,
     "metadata": {},
     "output_type": "execute_result"
    }
   ],
   "source": [
    "pairs = ((2, 5), (4, 2), (9, 8), (12, 10))\n",
    "sum((x%2==0 and y%2==0) for x,y in pairs)"
   ]
  },
  {
   "cell_type": "code",
   "execution_count": null,
   "metadata": {},
   "outputs": [],
   "source": []
  }
 ],
 "metadata": {
  "kernelspec": {
   "display_name": "Python 3.10.0 ('adrian')",
   "language": "python",
   "name": "python3"
  },
  "language_info": {
   "codemirror_mode": {
    "name": "ipython",
    "version": 3
   },
   "file_extension": ".py",
   "mimetype": "text/x-python",
   "name": "python",
   "nbconvert_exporter": "python",
   "pygments_lexer": "ipython3",
   "version": "3.10.0"
  },
  "orig_nbformat": 4,
  "vscode": {
   "interpreter": {
    "hash": "b368884a7f68abea1086189dd3992fcfdc83b40b949969504bb3049bdf6350d1"
   }
  }
 },
 "nbformat": 4,
 "nbformat_minor": 2
}
